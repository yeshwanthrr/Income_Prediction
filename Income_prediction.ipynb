{
 "cells": [
  {
   "cell_type": "markdown",
   "metadata": {},
   "source": [
    "Import Libraries"
   ]
  },
  {
   "cell_type": "code",
   "execution_count": 1,
   "metadata": {},
   "outputs": [],
   "source": [
    "import pandas as pd\n",
    "import numpy as np\n",
    "#from sklearn import linear_model\n",
    "#from sklearn.model_selection import cross_val_score, GridSearchCV\n",
    "from sklearn.ensemble import RandomForestRegressor\n",
    "#from sklearn.preprocessing import MinMaxScaler"
   ]
  },
  {
   "cell_type": "markdown",
   "metadata": {},
   "source": [
    "Load Data Set"
   ]
  },
  {
   "cell_type": "code",
   "execution_count": 2,
   "metadata": {},
   "outputs": [],
   "source": [
    "#Load Train Data\n",
    "df_tr = pd.read_csv(\"E:\\\\TCD Assignments\\\\Machine Learning\\\\Kaggle\\\\TCD_Dataset.csv\")\n",
    "df_tr = df_tr.drop(['Instance','Wears Glasses','Hair Color','Body Height [cm]'],axis=1)\n",
    "\n",
    "#Load Test Data\n",
    "df_ts = pd.read_csv(\"E:\\\\TCD Assignments\\\\Machine Learning\\\\Kaggle\\\\Test_Data.csv\")\n",
    "df_ts = df_ts.drop(['Instance','Wears Glasses','Hair Color','Body Height [cm]'],axis=1)"
   ]
  },
  {
   "cell_type": "markdown",
   "metadata": {},
   "source": [
    "Fill Missing Data"
   ]
  },
  {
   "cell_type": "code",
   "execution_count": 3,
   "metadata": {},
   "outputs": [],
   "source": [
    "def fillMissingValue(X):\n",
    "    d = {}\n",
    "    for c in list(X.columns):\n",
    "        if X[c].dtypes == 'object':\n",
    "            d[c] = 'NA' #X[c].value_counts().index[0]\n",
    "        else:\n",
    "            d[c] = X[c].mean()\n",
    "    return X.fillna(value=d)"
   ]
  },
  {
   "cell_type": "code",
   "execution_count": 4,
   "metadata": {},
   "outputs": [],
   "source": [
    "df_tr = fillMissingValue(df_tr)\n",
    "df_ts = fillMissingValue(df_ts)"
   ]
  },
  {
   "cell_type": "markdown",
   "metadata": {},
   "source": [
    "Use target Encoding to Encode Categirocal Variables"
   ]
  },
  {
   "cell_type": "code",
   "execution_count": 5,
   "metadata": {},
   "outputs": [],
   "source": [
    "def calc_smooth_mean(df,cat_var,tgt_var,sm=300):\n",
    "    dict_smooth = dict()\n",
    "    #dict_gmean = dict()\n",
    "    for col in cat_var:\n",
    "        g_mean = df[tgt_var].mean()\n",
    "        \n",
    "        #calculate the number of values and the mean of each group\n",
    "        agg = df.groupby(col)[tgt_var].agg(['count','mean'])\n",
    "        agg_count = agg['count']\n",
    "        agg_mean = agg['mean']\n",
    "        \n",
    "        #calculate smooth_mean\n",
    "        smooth = (agg_count * agg_mean + sm * agg_mean) / (agg_count + sm)\n",
    "        #print(smooth)\n",
    "        df[col] =  df[col].map(smooth)\n",
    "        #dict_gmean[col] = g_mean\n",
    "        dict_smooth[col] = smooth\n",
    "    return df,dict_smooth"
   ]
  },
  {
   "cell_type": "markdown",
   "metadata": {},
   "source": [
    "Call TargetEncoding Function"
   ]
  },
  {
   "cell_type": "code",
   "execution_count": 6,
   "metadata": {},
   "outputs": [],
   "source": [
    "df_tr,test_smooth = calc_smooth_mean(df_tr,[x for x in df_tr.columns if df_tr[x].dtypes == 'object'],'Income in EUR')"
   ]
  },
  {
   "cell_type": "markdown",
   "metadata": {},
   "source": [
    "Add meanvalues to test set"
   ]
  },
  {
   "cell_type": "code",
   "execution_count": 7,
   "metadata": {},
   "outputs": [],
   "source": [
    "for c in [x for x in df_ts.columns if df_ts[x].dtypes == 'object']:\n",
    "    df_ts.loc[:,c] = df_ts[c].map(test_smooth[c])"
   ]
  },
  {
   "cell_type": "markdown",
   "metadata": {},
   "source": [
    "Train the model"
   ]
  },
  {
   "cell_type": "code",
   "execution_count": 8,
   "metadata": {},
   "outputs": [
    {
     "data": {
      "text/plain": [
       "RandomForestRegressor(bootstrap=True, criterion='mse', max_depth=10,\n",
       "                      max_features='auto', max_leaf_nodes=None,\n",
       "                      min_impurity_decrease=0.0, min_impurity_split=None,\n",
       "                      min_samples_leaf=1, min_samples_split=2,\n",
       "                      min_weight_fraction_leaf=0.0, n_estimators=250,\n",
       "                      n_jobs=None, oob_score=False, random_state=None,\n",
       "                      verbose=0, warm_start=False)"
      ]
     },
     "execution_count": 8,
     "metadata": {},
     "output_type": "execute_result"
    }
   ],
   "source": [
    "#Changing dataframe to numpy also works with dataframe\n",
    "X_train = df_tr.iloc[:,:-1].values\n",
    "y_train =  df_tr.iloc[:,-1].values\n",
    "#numpy dataframe for test data\n",
    "X_test = df_ts.iloc[:,:-1]\n",
    "X_test = fillMissingValue(X_test).values\n",
    "\n",
    "\n",
    "rfr = RandomForestRegressor(n_estimators=250, criterion='mse', max_depth=10)\n",
    "rfr.fit(X_train, y_train)"
   ]
  },
  {
   "cell_type": "code",
   "execution_count": 9,
   "metadata": {},
   "outputs": [],
   "source": [
    "#Predict the outcome\n",
    "y_pred = rfr.predict(X_test)"
   ]
  },
  {
   "cell_type": "code",
   "execution_count": 10,
   "metadata": {},
   "outputs": [
    {
     "name": "stdout",
     "output_type": "stream",
     "text": [
      "[ 36301.069358    12718.06391399  32961.17297609 ...  62613.96164612\n",
      " 179678.10929783 179563.06500265]\n"
     ]
    }
   ],
   "source": [
    "print(y_pred)"
   ]
  },
  {
   "cell_type": "code",
   "execution_count": null,
   "metadata": {},
   "outputs": [],
   "source": []
  }
 ],
 "metadata": {
  "kernelspec": {
   "display_name": "Python 3",
   "language": "python",
   "name": "python3"
  },
  "language_info": {
   "codemirror_mode": {
    "name": "ipython",
    "version": 3
   },
   "file_extension": ".py",
   "mimetype": "text/x-python",
   "name": "python",
   "nbconvert_exporter": "python",
   "pygments_lexer": "ipython3",
   "version": "3.7.3"
  }
 },
 "nbformat": 4,
 "nbformat_minor": 2
}
